{
 "cells": [
  {
   "cell_type": "code",
   "execution_count": 35,
   "metadata": {},
   "outputs": [],
   "source": [
    "import os\n",
    "import sys\n",
    "# Add the parent directory of 'lib' to sys.path\n",
    "module_path = os.path.abspath(os.path.join('..'))\n",
    "if module_path not in sys.path:\n",
    "    sys.path.append(module_path)\n",
    "\n",
    "from lib.i18n import I18N\n",
    "i18n = I18N(locale=\"en_CA\")\n",
    "\n",
    "import lib.tester as tester"
   ]
  },
  {
   "cell_type": "code",
   "execution_count": 36,
   "metadata": {},
   "outputs": [
    {
     "data": {
      "text/markdown": [
       "# Introduction to Python\n",
       "\n",
       "Welcome to Python! In this notebook, we will explore the basics of Python programming and learn how to solve problems using code.\n",
       "\n",
       "---\n",
       "\n",
       "## Variables and Data Types\n",
       "\n",
       "### Learning Objectives\n",
       "By the end of this section, you will be able to:\n",
       "- Define variables in Python.\n",
       "- Identify and use common data types like integers, floats, and strings.\n",
       "- Use comments to document your code.\n",
       "\n",
       "---\n",
       "\n",
       "### What are variables?\n",
       "In Python, variables are used to store information that we can reuse later in our code. Think of them as \"containers\" or \"labels\" for data.\n",
       "\n",
       "Variables can hold different types of data. The most common ones are:\n",
       "\n",
       "- **Integers**: Whole numbers like `42` or `-7`\n",
       "- **Floats**: Numbers with decimals like `3.14` or `-0.001`\n",
       "- **Strings**: Text data, which is surrounded by quotes like `'Hello'` or `\"World\"`\n",
       "\n",
       "#### Comments in Python\n",
       "Comments start with `#` and are ignored by the computer. They are useful for explaining your code:\n",
       "\n",
       "```python\n",
       "# This is a comment and will not run\n",
       "```\n",
       "\n",
       "Example: Assigning Variables\n",
       "\n",
       "Here's how to assign variables and print them:"
      ],
      "text/plain": [
       "<IPython.core.display.Markdown object>"
      ]
     },
     "metadata": {},
     "output_type": "display_data"
    }
   ],
   "source": [
    "i18n.md('python/var_intro')"
   ]
  },
  {
   "cell_type": "code",
   "execution_count": 37,
   "metadata": {},
   "outputs": [
    {
     "name": "stdout",
     "output_type": "stream",
     "text": [
      "Name: Ada Lovelace, Age: 25, Pi: 3.14\n"
     ]
    }
   ],
   "source": [
    "# Example of assigning variables\n",
    "age = 25  # Integer\n",
    "name = \"Ada Lovelace\"  # String\n",
    "pi = 3.14  # Float\n",
    "\n",
    "# Printing variables\n",
    "print(f\"Name: {name}, Age: {age}, Pi: {pi}\")"
   ]
  },
  {
   "cell_type": "code",
   "execution_count": 38,
   "metadata": {},
   "outputs": [
    {
     "data": {
      "text/markdown": [
       "#### Your Turn!\n",
       "\n",
       "Define a variable `answer` and assign it the value `42`. Once you've done that, run the test below to check your work."
      ],
      "text/plain": [
       "<IPython.core.display.Markdown object>"
      ]
     },
     "metadata": {},
     "output_type": "display_data"
    }
   ],
   "source": [
    "i18n.md('python/var_task')"
   ]
  },
  {
   "cell_type": "code",
   "execution_count": 39,
   "metadata": {},
   "outputs": [],
   "source": [
    "# Define the variable `answer`\n",
    "# Example: answer = 42\n",
    "# Your code here:\n",
    "\n",
    "answer = None # Replace None with your value"
   ]
  },
  {
   "cell_type": "code",
   "execution_count": 40,
   "metadata": {},
   "outputs": [
    {
     "data": {
      "text/markdown": [
       "#### Testing and Feedback\n",
       "\n",
       "Run the test below to check your solution:"
      ],
      "text/plain": [
       "<IPython.core.display.Markdown object>"
      ]
     },
     "metadata": {},
     "output_type": "display_data"
    }
   ],
   "source": [
    "i18n.md('python/var_feedback')"
   ]
  },
  {
   "cell_type": "code",
   "execution_count": 41,
   "metadata": {},
   "outputs": [
    {
     "data": {
      "text/plain": [
       "\"Variable 'answer' is incorrectly defined. Expected value was 42, but got None.\""
      ]
     },
     "execution_count": 41,
     "metadata": {},
     "output_type": "execute_result"
    }
   ],
   "source": [
    "# Test your solution\n",
    "tester.test_variable_definition(globals())"
   ]
  },
  {
   "cell_type": "code",
   "execution_count": 42,
   "metadata": {},
   "outputs": [
    {
     "data": {
      "text/markdown": [
       "**If the test passes:** 🎉 Congratulations! You've defined your first variable in Python.\n",
       "\n",
       "**If the test fails:**\n",
       "* Ensure the variable is named answer.\n",
       "* Assign it the value 42.\n",
       "* Run the cell after making changes.\n",
       "* Use print(answer) if you're unsure about the value."
      ],
      "text/plain": [
       "<IPython.core.display.Markdown object>"
      ]
     },
     "metadata": {},
     "output_type": "display_data"
    }
   ],
   "source": [
    "i18n.md('python/var_result')"
   ]
  },
  {
   "cell_type": "code",
   "execution_count": 43,
   "metadata": {},
   "outputs": [
    {
     "data": {
      "text/markdown": [
       "## Arithmetic Operations\n",
       "\n",
       "### Learning Objectives\n",
       "By the end of this section, you will be able to:\n",
       "- Perform basic arithmetic operations in Python.\n",
       "- Use variables to store and manipulate numerical data.\n",
       "- Understand the difference between different types of division in Python.\n",
       "\n",
       "---\n",
       "\n",
       "### Introduction to Arithmetic\n",
       "Python can perform calculations just like a calculator! Here are the basic arithmetic operations:\n",
       "\n",
       "- **Addition**: `+`\n",
       "- **Subtraction**: `-`\n",
       "- **Multiplication**: `*`\n",
       "- **Division**: `/`\n",
       "- **Exponentiation**: `**` (raising a number to a power, e.g., \\(2^3 = 8\\))\n",
       "- **Floor Division**: `//` (division that rounds down to the nearest whole number)\n",
       "- **Modulus**: `%` (returns the remainder of a division)\n",
       "\n",
       "---\n",
       "\n",
       "### Example: Arithmetic Operations"
      ],
      "text/plain": [
       "<IPython.core.display.Markdown object>"
      ]
     },
     "metadata": {},
     "output_type": "display_data"
    }
   ],
   "source": [
    "i18n.md('python/arith_intro')"
   ]
  },
  {
   "cell_type": "code",
   "execution_count": 44,
   "metadata": {},
   "outputs": [
    {
     "name": "stdout",
     "output_type": "stream",
     "text": [
      "Addition: 10 + 3 = 13\n",
      "Subtraction: 10 - 3 = 7\n",
      "Multiplication: 10 * 3 = 30\n",
      "Division: 10 / 3 = 3.33\n",
      "Exponentiation: 10 ** 3 = 1000\n",
      "Floor Division: 10 // 3 = 3\n",
      "Modulus: 10 % 3 = 1\n"
     ]
    }
   ],
   "source": [
    "# Basic arithmetic\n",
    "a = 10\n",
    "b = 3\n",
    "\n",
    "# Addition\n",
    "sum_result = a + b\n",
    "print(f\"Addition: {a} + {b} = {sum_result}\")\n",
    "\n",
    "# Subtraction\n",
    "sub_result = a - b\n",
    "print(f\"Subtraction: {a} - {b} = {sub_result}\")\n",
    "\n",
    "# Multiplication\n",
    "mul_result = a * b\n",
    "print(f\"Multiplication: {a} * {b} = {mul_result}\")\n",
    "\n",
    "# Division\n",
    "div_result = a / b\n",
    "print(f\"Division: {a} / {b} = {div_result:.2f}\")  # Limiting decimals to 2 places\n",
    "\n",
    "# Exponentiation\n",
    "exp_result = a ** b\n",
    "print(f\"Exponentiation: {a} ** {b} = {exp_result}\")\n",
    "\n",
    "# Floor Division\n",
    "floor_div_result = a // b\n",
    "print(f\"Floor Division: {a} // {b} = {floor_div_result}\")\n",
    "\n",
    "# Modulus\n",
    "mod_result = a % b\n",
    "print(f\"Modulus: {a} % {b} = {mod_result}\")"
   ]
  },
  {
   "cell_type": "code",
   "execution_count": 45,
   "metadata": {},
   "outputs": [
    {
     "data": {
      "text/markdown": [
       "#### Your Turn!\n",
       "\n",
       "Now it's your turn to experiment with arithmetic operations. Define two variables x and y and try out all the operations."
      ],
      "text/plain": [
       "<IPython.core.display.Markdown object>"
      ]
     },
     "metadata": {},
     "output_type": "display_data"
    }
   ],
   "source": [
    "i18n.md('python/arith_task')"
   ]
  },
  {
   "cell_type": "code",
   "execution_count": 46,
   "metadata": {},
   "outputs": [],
   "source": [
    "# Define variables `x` and `y`\n",
    "# Example: x = 15, y = 4\n",
    "x = None  # Replace None with your value\n",
    "y = None  # Replace None with your value\n",
    "\n",
    "# Perform the operations and print the results\n",
    "# Example: print(x + y) for addition"
   ]
  },
  {
   "cell_type": "code",
   "execution_count": 47,
   "metadata": {},
   "outputs": [
    {
     "data": {
      "text/markdown": [
       "#### Challenge: Combine Operations\n",
       "\n",
       "Combine multiple operations to solve the following problem:\n",
       "\n",
       "Define a variable `result` as the value of `(10+2)×3 − (4÷2)`."
      ],
      "text/plain": [
       "<IPython.core.display.Markdown object>"
      ]
     },
     "metadata": {},
     "output_type": "display_data"
    }
   ],
   "source": [
    "i18n.md('python/arith_challenge')"
   ]
  },
  {
   "cell_type": "code",
   "execution_count": 48,
   "metadata": {},
   "outputs": [],
   "source": [
    "# Define the variable `result`\n",
    "# Your code here:\n",
    "\n",
    "result = None # Replace None with the correct formula"
   ]
  },
  {
   "cell_type": "code",
   "execution_count": 49,
   "metadata": {},
   "outputs": [
    {
     "data": {
      "text/markdown": [
       "#### Testing and Feedback\n",
       "\n",
       "Test your solution for the challenge problem:"
      ],
      "text/plain": [
       "<IPython.core.display.Markdown object>"
      ]
     },
     "metadata": {},
     "output_type": "display_data"
    }
   ],
   "source": [
    "i18n.md('python/arith_feedback')"
   ]
  },
  {
   "cell_type": "code",
   "execution_count": 50,
   "metadata": {},
   "outputs": [
    {
     "data": {
      "text/plain": [
       "\"Variable 'result' is incorrectly defined. Expected value was 34.0, but got None.\""
      ]
     },
     "execution_count": 50,
     "metadata": {},
     "output_type": "execute_result"
    }
   ],
   "source": [
    "# Test your solution\n",
    "tester.test_arithmetic_operations(globals())"
   ]
  },
  {
   "cell_type": "code",
   "execution_count": 51,
   "metadata": {},
   "outputs": [
    {
     "data": {
      "text/markdown": [
       "**If the test passes:** 🎉 Great job! You've successfully worked with arithmetic in Python.\n",
       "\n",
       "**If the test fails:**\n",
       "\n",
       "* Check your formula carefully.\n",
       "* Ensure you used parentheses to control the order of operations (PEMDAS/BODMAS).\n",
       "* Re-run the cell with your corrected code."
      ],
      "text/plain": [
       "<IPython.core.display.Markdown object>"
      ]
     },
     "metadata": {},
     "output_type": "display_data"
    }
   ],
   "source": [
    "i18n.md('python/arith_result')"
   ]
  },
  {
   "cell_type": "code",
   "execution_count": 52,
   "metadata": {},
   "outputs": [
    {
     "data": {
      "text/markdown": [
       "#### Bonus: Why Floor Division and Modulus Matter\n",
       "\n",
       "Imagine you want to distribute 17 candies evenly among 3 friends. You can use floor division to find how many candies each person gets and modulus to find out how many are left over."
      ],
      "text/plain": [
       "<IPython.core.display.Markdown object>"
      ]
     },
     "metadata": {},
     "output_type": "display_data"
    }
   ],
   "source": [
    "i18n.md('python/arith_bonus')"
   ]
  },
  {
   "cell_type": "code",
   "execution_count": 53,
   "metadata": {},
   "outputs": [
    {
     "name": "stdout",
     "output_type": "stream",
     "text": [
      "Each friend gets 5 candies, with 2 left over.\n"
     ]
    }
   ],
   "source": [
    "candies = 17\n",
    "friends = 3\n",
    "\n",
    "# How many candies per friend?\n",
    "per_friend = candies // friends\n",
    "\n",
    "# How many candies are left over?\n",
    "leftover = candies % friends\n",
    "\n",
    "print(f\"Each friend gets {per_friend} candies, with {leftover} left over.\")"
   ]
  }
 ],
 "metadata": {
  "kernelspec": {
   "display_name": "astro",
   "language": "python",
   "name": "python3"
  },
  "language_info": {
   "codemirror_mode": {
    "name": "ipython",
    "version": 3
   },
   "file_extension": ".py",
   "mimetype": "text/x-python",
   "name": "python",
   "nbconvert_exporter": "python",
   "pygments_lexer": "ipython3",
   "version": "3.11.6"
  }
 },
 "nbformat": 4,
 "nbformat_minor": 4
}
