{
 "cells": [
  {
   "cell_type": "code",
   "execution_count": 185,
   "metadata": {},
   "outputs": [],
   "source": [
    "import os\n",
    "import sys\n",
    "# Add the parent directory of 'lib' to sys.path\n",
    "module_path = os.path.abspath(os.path.join('..'))\n",
    "if module_path not in sys.path:\n",
    "    sys.path.append(module_path)\n",
    "\n",
    "from lib.i18n import I18N\n",
    "i18n = I18N(locale=\"en_CA\")\n",
    "\n",
    "import lib.tester as tester"
   ]
  },
  {
   "cell_type": "code",
   "execution_count": 186,
   "metadata": {},
   "outputs": [
    {
     "data": {
      "text/markdown": [
       "# Introduction to Python\n",
       "\n",
       "Welcome to Python! In this notebook, we will explore the basics of Python programming and learn how to solve problems using code.\n",
       "\n",
       "---\n",
       "\n",
       "## Variables and Data Types\n",
       "\n",
       "### Learning Objectives\n",
       "By the end of this section, you will be able to:\n",
       "- Define variables in Python.\n",
       "- Identify and use common data types like integers, floats, and strings.\n",
       "- Use comments to document your code.\n",
       "\n",
       "---\n",
       "\n",
       "### What are variables?\n",
       "In Python, variables are used to store information that we can reuse later in our code. Think of them as \"containers\" or \"labels\" for data.\n",
       "\n",
       "Variables can hold different types of data. The most common ones are:\n",
       "\n",
       "- **Integers**: Whole numbers like `42` or `-7`\n",
       "- **Floats**: Numbers with decimals like `3.14` or `-0.001`\n",
       "- **Strings**: Text data, which is surrounded by quotes like `'Hello'` or `\"World\"`\n",
       "\n",
       "#### Comments in Python\n",
       "Comments start with `#` and are ignored by the computer. They are useful for explaining your code:\n",
       "\n",
       "```python\n",
       "# This is a comment and will not run\n",
       "```\n",
       "\n",
       "#### Example: Assigning Variables\n",
       "\n",
       "Here's how to assign variables and print them:"
      ],
      "text/plain": [
       "<IPython.core.display.Markdown object>"
      ]
     },
     "metadata": {},
     "output_type": "display_data"
    }
   ],
   "source": [
    "i18n.md('python/var_intro')"
   ]
  },
  {
   "cell_type": "code",
   "execution_count": 187,
   "metadata": {},
   "outputs": [
    {
     "name": "stdout",
     "output_type": "stream",
     "text": [
      "Name: Ada Lovelace, Age: 25, Pi: 3.14\n"
     ]
    }
   ],
   "source": [
    "# Example of assigning variables\n",
    "age = 25  # Integer\n",
    "name = \"Ada Lovelace\"  # String\n",
    "pi = 3.14  # Float\n",
    "\n",
    "# Printing variables\n",
    "print(f\"Name: {name}, Age: {age}, Pi: {pi}\")"
   ]
  },
  {
   "cell_type": "code",
   "execution_count": 188,
   "metadata": {},
   "outputs": [
    {
     "data": {
      "text/markdown": [
       "#### Your Turn!\n",
       "\n",
       "Define a variable `answer` and assign it the value `42`. Once you've done that, run the test below to check your work."
      ],
      "text/plain": [
       "<IPython.core.display.Markdown object>"
      ]
     },
     "metadata": {},
     "output_type": "display_data"
    }
   ],
   "source": [
    "i18n.md('python/var_task')"
   ]
  },
  {
   "cell_type": "code",
   "execution_count": 189,
   "metadata": {},
   "outputs": [],
   "source": [
    "# Define the variable `answer`\n",
    "# Example: answer = 42\n",
    "# Your code here:\n",
    "\n",
    "answer = None # Replace None with your value"
   ]
  },
  {
   "cell_type": "code",
   "execution_count": 190,
   "metadata": {},
   "outputs": [
    {
     "data": {
      "text/markdown": [
       "#### Testing and Feedback\n",
       "\n",
       "Run the test below to check your solution:"
      ],
      "text/plain": [
       "<IPython.core.display.Markdown object>"
      ]
     },
     "metadata": {},
     "output_type": "display_data"
    }
   ],
   "source": [
    "i18n.md('python/var_feedback')"
   ]
  },
  {
   "cell_type": "code",
   "execution_count": 191,
   "metadata": {},
   "outputs": [
    {
     "data": {
      "text/plain": [
       "\"Variable 'answer' is incorrectly defined. Expected value was 42, but got None.\""
      ]
     },
     "execution_count": 191,
     "metadata": {},
     "output_type": "execute_result"
    }
   ],
   "source": [
    "# Test your solution\n",
    "tester.variable_definition(globals())"
   ]
  },
  {
   "cell_type": "code",
   "execution_count": 192,
   "metadata": {},
   "outputs": [
    {
     "data": {
      "text/markdown": [
       "**If the test passes:** 🎉 Congratulations! You've defined your first variable in Python.\n",
       "\n",
       "**If the test fails:**\n",
       "* Ensure the variable is named answer.\n",
       "* Assign it the value 42.\n",
       "* Run the cell after making changes.\n",
       "* Use print(answer) if you're unsure about the value."
      ],
      "text/plain": [
       "<IPython.core.display.Markdown object>"
      ]
     },
     "metadata": {},
     "output_type": "display_data"
    }
   ],
   "source": [
    "i18n.md('python/var_result')"
   ]
  },
  {
   "cell_type": "code",
   "execution_count": 193,
   "metadata": {},
   "outputs": [
    {
     "data": {
      "text/markdown": [
       "## Arithmetic Operations\n",
       "\n",
       "### Learning Objectives\n",
       "By the end of this section, you will be able to:\n",
       "- Perform basic arithmetic operations in Python.\n",
       "- Use variables to store and manipulate numerical data.\n",
       "- Understand the difference between different types of division in Python.\n",
       "\n",
       "---\n",
       "\n",
       "### Introduction to Arithmetic\n",
       "Python can perform calculations just like a calculator! Here are the basic arithmetic operations:\n",
       "\n",
       "- **Addition**: `+`\n",
       "- **Subtraction**: `-`\n",
       "- **Multiplication**: `*`\n",
       "- **Division**: `/`\n",
       "- **Exponentiation**: `**` (raising a number to a power, e.g., \\(2^3 = 8\\))\n",
       "- **Floor Division**: `//` (division that rounds down to the nearest whole number)\n",
       "- **Modulus**: `%` (returns the remainder of a division)\n",
       "\n",
       "---\n",
       "\n",
       "#### Example: Arithmetic Operations"
      ],
      "text/plain": [
       "<IPython.core.display.Markdown object>"
      ]
     },
     "metadata": {},
     "output_type": "display_data"
    }
   ],
   "source": [
    "i18n.md('python/arith_intro')"
   ]
  },
  {
   "cell_type": "code",
   "execution_count": 194,
   "metadata": {},
   "outputs": [
    {
     "name": "stdout",
     "output_type": "stream",
     "text": [
      "Addition: 10 + 3 = 13\n",
      "Subtraction: 10 - 3 = 7\n",
      "Multiplication: 10 * 3 = 30\n",
      "Division: 10 / 3 = 3.33\n",
      "Exponentiation: 10 ** 3 = 1000\n",
      "Floor Division: 10 // 3 = 3\n",
      "Modulus: 10 % 3 = 1\n"
     ]
    }
   ],
   "source": [
    "# Basic arithmetic\n",
    "a = 10\n",
    "b = 3\n",
    "\n",
    "# Addition\n",
    "sum_result = a + b\n",
    "print(f\"Addition: {a} + {b} = {sum_result}\")\n",
    "\n",
    "# Subtraction\n",
    "sub_result = a - b\n",
    "print(f\"Subtraction: {a} - {b} = {sub_result}\")\n",
    "\n",
    "# Multiplication\n",
    "mul_result = a * b\n",
    "print(f\"Multiplication: {a} * {b} = {mul_result}\")\n",
    "\n",
    "# Division\n",
    "div_result = a / b\n",
    "print(f\"Division: {a} / {b} = {div_result:.2f}\")  # Limiting decimals to 2 places\n",
    "\n",
    "# Exponentiation\n",
    "exp_result = a ** b\n",
    "print(f\"Exponentiation: {a} ** {b} = {exp_result}\")\n",
    "\n",
    "# Floor Division\n",
    "floor_div_result = a // b\n",
    "print(f\"Floor Division: {a} // {b} = {floor_div_result}\")\n",
    "\n",
    "# Modulus\n",
    "mod_result = a % b\n",
    "print(f\"Modulus: {a} % {b} = {mod_result}\")"
   ]
  },
  {
   "cell_type": "code",
   "execution_count": 195,
   "metadata": {},
   "outputs": [
    {
     "data": {
      "text/markdown": [
       "#### Your Turn!\n",
       "\n",
       "Now it's your turn to experiment with arithmetic operations. Define two variables x and y and try out all the operations."
      ],
      "text/plain": [
       "<IPython.core.display.Markdown object>"
      ]
     },
     "metadata": {},
     "output_type": "display_data"
    }
   ],
   "source": [
    "i18n.md('python/arith_task')"
   ]
  },
  {
   "cell_type": "code",
   "execution_count": 196,
   "metadata": {},
   "outputs": [],
   "source": [
    "# Define variables `x` and `y`\n",
    "# Example: x = 15, y = 4\n",
    "x = None  # Replace None with your value\n",
    "y = None  # Replace None with your value\n",
    "\n",
    "# Perform the operations and print the results\n",
    "# Example: print(x + y) for addition"
   ]
  },
  {
   "cell_type": "code",
   "execution_count": 197,
   "metadata": {},
   "outputs": [
    {
     "data": {
      "text/markdown": [
       "#### Challenge: Combine Operations\n",
       "\n",
       "Combine multiple operations to solve the following problem:\n",
       "\n",
       "Define a variable `result` as the value of `(10+2)×3 − (4÷2)`."
      ],
      "text/plain": [
       "<IPython.core.display.Markdown object>"
      ]
     },
     "metadata": {},
     "output_type": "display_data"
    }
   ],
   "source": [
    "i18n.md('python/arith_challenge')"
   ]
  },
  {
   "cell_type": "code",
   "execution_count": 198,
   "metadata": {},
   "outputs": [],
   "source": [
    "# Define the variable `result`\n",
    "# Your code here:\n",
    "\n",
    "result = None # Replace None with the correct formula"
   ]
  },
  {
   "cell_type": "code",
   "execution_count": 199,
   "metadata": {},
   "outputs": [
    {
     "data": {
      "text/markdown": [
       "#### Testing and Feedback\n",
       "\n",
       "Test your solution for the challenge problem:"
      ],
      "text/plain": [
       "<IPython.core.display.Markdown object>"
      ]
     },
     "metadata": {},
     "output_type": "display_data"
    }
   ],
   "source": [
    "i18n.md('python/arith_feedback')"
   ]
  },
  {
   "cell_type": "code",
   "execution_count": 200,
   "metadata": {},
   "outputs": [
    {
     "data": {
      "text/plain": [
       "\"Variable 'result' is incorrectly defined. Expected value was 34.0, but got None.\""
      ]
     },
     "execution_count": 200,
     "metadata": {},
     "output_type": "execute_result"
    }
   ],
   "source": [
    "# Test your solution\n",
    "tester.arithmetic_operations(globals())"
   ]
  },
  {
   "cell_type": "code",
   "execution_count": 201,
   "metadata": {},
   "outputs": [
    {
     "data": {
      "text/markdown": [
       "**If the test passes:** 🎉 Great job! You've successfully worked with arithmetic in Python.\n",
       "\n",
       "**If the test fails:**\n",
       "\n",
       "* Check your formula carefully.\n",
       "* Ensure you used parentheses to control the order of operations (PEMDAS/BODMAS).\n",
       "* Re-run the cell with your corrected code."
      ],
      "text/plain": [
       "<IPython.core.display.Markdown object>"
      ]
     },
     "metadata": {},
     "output_type": "display_data"
    }
   ],
   "source": [
    "i18n.md('python/arith_result')"
   ]
  },
  {
   "cell_type": "code",
   "execution_count": 202,
   "metadata": {},
   "outputs": [
    {
     "data": {
      "text/markdown": [
       "#### Bonus: Why Floor Division and Modulus Matter\n",
       "\n",
       "Imagine you want to distribute 17 candies evenly among 3 friends. You can use floor division to find how many candies each person gets and modulus to find out how many are left over."
      ],
      "text/plain": [
       "<IPython.core.display.Markdown object>"
      ]
     },
     "metadata": {},
     "output_type": "display_data"
    }
   ],
   "source": [
    "i18n.md('python/arith_bonus')"
   ]
  },
  {
   "cell_type": "code",
   "execution_count": 203,
   "metadata": {},
   "outputs": [
    {
     "name": "stdout",
     "output_type": "stream",
     "text": [
      "Each friend gets 5 candies, with 2 left over.\n"
     ]
    }
   ],
   "source": [
    "candies = 17\n",
    "friends = 3\n",
    "\n",
    "# How many candies per friend?\n",
    "per_friend = candies // friends\n",
    "\n",
    "# How many candies are left over?\n",
    "leftover = candies % friends\n",
    "\n",
    "print(f\"Each friend gets {per_friend} candies, with {leftover} left over.\")"
   ]
  },
  {
   "cell_type": "code",
   "execution_count": 204,
   "metadata": {},
   "outputs": [
    {
     "data": {
      "text/markdown": [
       "## Conditional Statements\n",
       "\n",
       "### Learning Objectives\n",
       "By the end of this section, you will be able to:\n",
       "- Use comparison operators to evaluate conditions.\n",
       "- Write `if`, `elif`, and `else` statements to control the flow of your code.\n",
       "- Combine multiple conditions using logical operators (`and`, `or`, `not`).\n",
       "\n",
       "---\n",
       "\n",
       "### Introduction to Conditions\n",
       "In Python, **conditions** are expressions that evaluate to either `True` or `False`. These are called **boolean values**.\n",
       "\n",
       "Here are the most common comparison operators:\n",
       "- `==`: Equal to\n",
       "- `!=`: Not equal to\n",
       "- `<`: Less than\n",
       "- `<=`: Less than or equal to\n",
       "- `>`: Greater than\n",
       "- `>=`: Greater than or equal to\n",
       "\n",
       "---\n",
       "\n",
       "### Example: Comparison Operators"
      ],
      "text/plain": [
       "<IPython.core.display.Markdown object>"
      ]
     },
     "metadata": {},
     "output_type": "display_data"
    }
   ],
   "source": [
    "i18n.md('python/cond_intro')"
   ]
  },
  {
   "cell_type": "code",
   "execution_count": 205,
   "metadata": {},
   "outputs": [
    {
     "name": "stdout",
     "output_type": "stream",
     "text": [
      "True\n",
      "False\n",
      "True\n"
     ]
    }
   ],
   "source": [
    "# Example comparisons\n",
    "x = 10\n",
    "y = 5\n",
    "\n",
    "print(x > y)   # True: x is greater than y\n",
    "print(x == y)  # False: x is not equal to y\n",
    "print(x <= 15) # True: x is less than or equal to 15"
   ]
  },
  {
   "cell_type": "code",
   "execution_count": 206,
   "metadata": {},
   "outputs": [
    {
     "data": {
      "text/markdown": [
       "### Conditional Statements\n",
       "\n",
       "In Python, you can use conditional statements to make decisions in your code. Here's the syntax:\n",
       "\n",
       "```python\n",
       "if condition:\n",
       "    # Code to execute if the condition is True\n",
       "elif another_condition:\n",
       "    # Code to execute if the first condition is False and this one is True\n",
       "else:\n",
       "    # Code to execute if all conditions are False\n",
       "```\n",
       "\n",
       "#### Example: Conditional Statements"
      ],
      "text/plain": [
       "<IPython.core.display.Markdown object>"
      ]
     },
     "metadata": {},
     "output_type": "display_data"
    }
   ],
   "source": [
    "i18n.md('python/cond_eg')"
   ]
  },
  {
   "cell_type": "code",
   "execution_count": 207,
   "metadata": {},
   "outputs": [
    {
     "name": "stdout",
     "output_type": "stream",
     "text": [
      "It's a warm day.\n"
     ]
    }
   ],
   "source": [
    "temperature = 25  # Temperature in degrees Celsius\n",
    "\n",
    "if temperature > 30:\n",
    "    print(\"It's a hot day!\")\n",
    "elif temperature >= 20:\n",
    "    print(\"It's a warm day.\")\n",
    "else:\n",
    "    print(\"It's a cool day.\")"
   ]
  },
  {
   "cell_type": "code",
   "execution_count": 208,
   "metadata": {},
   "outputs": [
    {
     "data": {
      "text/markdown": [
       "#### Your Turn: Age Checker\n",
       "\n",
       "Write a program that checks a person's age and prints:\n",
       "\n",
       "* `\"Child\"` if the age is less than 13.\n",
       "* `\"Teenager\"` if the age is between 13 and 19 (inclusive).\n",
       "* `\"Adult\"` if the age is 20 or older."
      ],
      "text/plain": [
       "<IPython.core.display.Markdown object>"
      ]
     },
     "metadata": {},
     "output_type": "display_data"
    }
   ],
   "source": [
    "i18n.md('python/cond_task_age')"
   ]
  },
  {
   "cell_type": "code",
   "execution_count": 209,
   "metadata": {},
   "outputs": [],
   "source": [
    "# Define the variable `age` and implement the logic\n",
    "age = None  # Replace None with your value\n",
    "\n",
    "# Use if-elif-else to print the appropriate category\n",
    "# Example:\n",
    "# if age < 13:\n",
    "#     print(\"Child\")"
   ]
  },
  {
   "cell_type": "code",
   "execution_count": 210,
   "metadata": {},
   "outputs": [
    {
     "data": {
      "text/markdown": [
       "### Logical Operators\n",
       "\n",
       "You can combine multiple conditions using these logical operators:\n",
       "\n",
       "* `and`: All conditions must be True.\n",
       "* `or`: At least one condition must be True.\n",
       "* `not`: Inverts the condition (True becomes False and vice versa).\n",
       "\n",
       "#### Example: Combining Conditions"
      ],
      "text/plain": [
       "<IPython.core.display.Markdown object>"
      ]
     },
     "metadata": {},
     "output_type": "display_data"
    }
   ],
   "source": [
    "i18n.md('python/cond_op')"
   ]
  },
  {
   "cell_type": "code",
   "execution_count": 211,
   "metadata": {},
   "outputs": [
    {
     "name": "stdout",
     "output_type": "stream",
     "text": [
      "You can attend the event!\n"
     ]
    }
   ],
   "source": [
    "age = 16\n",
    "has_permission = True\n",
    "\n",
    "if age >= 13 and age <= 18 and has_permission:\n",
    "    print(\"You can attend the event!\")\n",
    "else:\n",
    "    print(\"Sorry, you cannot attend.\")"
   ]
  },
  {
   "cell_type": "code",
   "execution_count": 212,
   "metadata": {},
   "outputs": [],
   "source": [
    "# Define the variable `score` and implement the logic\n",
    "score = None  # Replace None with your value\n",
    "\n",
    "# Use if-elif-else to determine and print the letter grade"
   ]
  },
  {
   "cell_type": "code",
   "execution_count": 213,
   "metadata": {},
   "outputs": [
    {
     "data": {
      "text/markdown": [
       "#### Testing and Feedback\n",
       "\n",
       "Tests for the Age Checker and Grading System tasks:"
      ],
      "text/plain": [
       "<IPython.core.display.Markdown object>"
      ]
     },
     "metadata": {},
     "output_type": "display_data"
    }
   ],
   "source": [
    "i18n.md('python/cond_feedback')"
   ]
  },
  {
   "cell_type": "code",
   "execution_count": 214,
   "metadata": {},
   "outputs": [],
   "source": [
    "# Test Age Checker\n",
    "# TODO: Implement the age_checker function in lib/tester.py\n",
    "#tester.age_checker(globals())\n",
    "\n",
    "# Test Grading System\n",
    "# TODO: Implement the grading_system function in lib/tester.py\n",
    "#tester.grading_system(globals())"
   ]
  },
  {
   "cell_type": "code",
   "execution_count": 215,
   "metadata": {},
   "outputs": [
    {
     "data": {
      "text/markdown": [
       "## Loops\n",
       "\n",
       "### Learning Objectives\n",
       "By the end of this section, you will be able to:\n",
       "- Use `for` loops to iterate over a sequence of items.\n",
       "- Use `while` loops to repeat actions based on a condition.\n",
       "- Break out of loops or skip iterations using `break` and `continue`.\n",
       "\n",
       "---\n",
       "\n",
       "### Introduction to Loops\n",
       "Loops allow you to execute a block of code multiple times. Python has two main types of loops:\n",
       "- `for` loops: Iterate over a sequence like a list or a range of numbers.\n",
       "- `while` loops: Continue executing as long as a condition is `True`.\n",
       "\n",
       "---\n",
       "\n",
       "### `for` Loops\n",
       "A `for` loop is great for iterating over a sequence. Here's the syntax:\n",
       "\n",
       "```python\n",
       "for item in sequence:\n",
       "    # Code to execute for each item\n",
       "```\n",
       "\n",
       "#### Example: `for` Loop with a Range"
      ],
      "text/plain": [
       "<IPython.core.display.Markdown object>"
      ]
     },
     "metadata": {},
     "output_type": "display_data"
    }
   ],
   "source": [
    "i18n.md('python/loops_intro')"
   ]
  },
  {
   "cell_type": "code",
   "execution_count": 216,
   "metadata": {},
   "outputs": [
    {
     "name": "stdout",
     "output_type": "stream",
     "text": [
      "1\n",
      "2\n",
      "3\n",
      "4\n",
      "5\n"
     ]
    }
   ],
   "source": [
    "# Print numbers from 1 to 5\n",
    "for i in range(1, 6):\n",
    "    print(i)"
   ]
  },
  {
   "cell_type": "code",
   "execution_count": 217,
   "metadata": {},
   "outputs": [
    {
     "data": {
      "text/markdown": [
       "### `while` Loops\n",
       "\n",
       "A `while` loop repeats as long as a condition is True. Here's the syntax:\n",
       "\n",
       "```python\n",
       "while condition:\n",
       "    # Code to execute while the condition is True\n",
       "```\n",
       "\n",
       "#### Example: `while` Loop"
      ],
      "text/plain": [
       "<IPython.core.display.Markdown object>"
      ]
     },
     "metadata": {},
     "output_type": "display_data"
    }
   ],
   "source": [
    "i18n.md('python/loops_while')"
   ]
  },
  {
   "cell_type": "code",
   "execution_count": 218,
   "metadata": {},
   "outputs": [
    {
     "name": "stdout",
     "output_type": "stream",
     "text": [
      "1\n",
      "2\n",
      "3\n",
      "4\n",
      "5\n"
     ]
    }
   ],
   "source": [
    "# Print numbers from 1 to 5\n",
    "count = 1\n",
    "while count <= 5:\n",
    "    print(count)\n",
    "    count += 1  # Increment the counter"
   ]
  },
  {
   "cell_type": "code",
   "execution_count": 219,
   "metadata": {},
   "outputs": [
    {
     "data": {
      "text/markdown": [
       "### Control Statements: `break` and `continue`\n",
       "\n",
       "* `break`: Exits the loop immediately.\n",
       "* `continue`: Skips the rest of the current iteration and moves to the next one.\n",
       "\n",
       "#### Example: `break` and `continue`"
      ],
      "text/plain": [
       "<IPython.core.display.Markdown object>"
      ]
     },
     "metadata": {},
     "output_type": "display_data"
    }
   ],
   "source": [
    "i18n.md('python/loops_control')"
   ]
  },
  {
   "cell_type": "code",
   "execution_count": 220,
   "metadata": {},
   "outputs": [
    {
     "name": "stdout",
     "output_type": "stream",
     "text": [
      "1\n",
      "2\n",
      "3\n",
      "4\n",
      "6\n",
      "7\n",
      "8\n"
     ]
    }
   ],
   "source": [
    "# Print numbers from 1 to 10, but skip 5\n",
    "for i in range(1, 11):\n",
    "    if i == 5:\n",
    "        continue  # Skip this iteration\n",
    "    print(i)\n",
    "    \n",
    "    if i == 8:\n",
    "        break  # Exit the loop"
   ]
  },
  {
   "cell_type": "code",
   "execution_count": 221,
   "metadata": {},
   "outputs": [
    {
     "data": {
      "text/markdown": [
       "#### Your Turn: Sum of Numbers\n",
       "\n",
       "Write a program that calculates the sum of all integers from 1 to n using a loop."
      ],
      "text/plain": [
       "<IPython.core.display.Markdown object>"
      ]
     },
     "metadata": {},
     "output_type": "display_data"
    }
   ],
   "source": [
    "i18n.md('python/loops_task')"
   ]
  },
  {
   "cell_type": "code",
   "execution_count": 222,
   "metadata": {},
   "outputs": [],
   "source": [
    "# Define the variable `n` (e.g., n = 10)\n",
    "n = None  # Replace None with your value\n",
    "\n",
    "# Calculate the sum using a loop\n",
    "# Your code here:"
   ]
  },
  {
   "cell_type": "code",
   "execution_count": 223,
   "metadata": {},
   "outputs": [
    {
     "data": {
      "text/markdown": [
       "#### Challenge: Multiplication Table\n",
       "\n",
       "Write a program that prints the multiplication table for a given number `x` (from 1 to 10)."
      ],
      "text/plain": [
       "<IPython.core.display.Markdown object>"
      ]
     },
     "metadata": {},
     "output_type": "display_data"
    }
   ],
   "source": [
    "i18n.md('python/loops_challenge')"
   ]
  },
  {
   "cell_type": "code",
   "execution_count": 224,
   "metadata": {},
   "outputs": [],
   "source": [
    "# Define the variable `x` (e.g., x = 3)\n",
    "x = None  # Replace None with your value\n",
    "\n",
    "# Use a loop to print the multiplication table\n",
    "# Example output for x = 3:\n",
    "# 3 x 1 = 3\n",
    "# 3 x 2 = 6\n",
    "# ...\n",
    "# 3 x 10 = 30\n"
   ]
  },
  {
   "cell_type": "code",
   "execution_count": 225,
   "metadata": {},
   "outputs": [
    {
     "data": {
      "text/markdown": [
       "### Nested Loops\n",
       "\n",
       "You can use loops inside other loops to perform more complex tasks.\n",
       "\n",
       "#### Example: Nested Loops"
      ],
      "text/plain": [
       "<IPython.core.display.Markdown object>"
      ]
     },
     "metadata": {},
     "output_type": "display_data"
    }
   ],
   "source": [
    "i18n.md('python/loops_nested')"
   ]
  },
  {
   "cell_type": "code",
   "execution_count": 226,
   "metadata": {},
   "outputs": [
    {
     "name": "stdout",
     "output_type": "stream",
     "text": [
      "(1, 1) (1, 2) (1, 3) \n",
      "(2, 1) (2, 2) (2, 3) \n",
      "(3, 1) (3, 2) (3, 3) \n"
     ]
    }
   ],
   "source": [
    "# Print a grid of numbers\n",
    "for row in range(1, 4):\n",
    "    for col in range(1, 4):\n",
    "        print(f\"({row}, {col})\", end=\" \")\n",
    "    print()  # Newline after each row\n"
   ]
  },
  {
   "cell_type": "code",
   "execution_count": 227,
   "metadata": {},
   "outputs": [
    {
     "data": {
      "text/markdown": [
       "#### Testing and Feedback\n",
       "\n",
       "Tests for the Sum of Numbers and Multiplication Table tasks:"
      ],
      "text/plain": [
       "<IPython.core.display.Markdown object>"
      ]
     },
     "metadata": {},
     "output_type": "display_data"
    }
   ],
   "source": [
    "i18n.md('python/loops_feedback')"
   ]
  },
  {
   "cell_type": "code",
   "execution_count": 228,
   "metadata": {},
   "outputs": [],
   "source": [
    "# Test Sum of Numbers\n",
    "# TODO: Implement the sum_of_numbers function in lib/tester.py\n",
    "#tester.sum_of_numbers(globals())\n",
    "\n",
    "# Test Multiplication Table\n",
    "# TODO: Implement the multiplication_table function in lib/tester.py\n",
    "#tester.multiplication_table(globals())"
   ]
  },
  {
   "cell_type": "code",
   "execution_count": 229,
   "metadata": {},
   "outputs": [
    {
     "data": {
      "text/markdown": [
       "## Functions\n",
       "\n",
       "### Learning Objectives\n",
       "By the end of this section, you will be able to:\n",
       "- Define and use functions in Python.\n",
       "- Pass arguments to functions and return values.\n",
       "- Understand the concept of reusable code and why functions are useful.\n",
       "\n",
       "---\n",
       "\n",
       "### What are Functions?\n",
       "Functions are blocks of reusable code that perform a specific task. They help make your code cleaner, more organized, and easier to debug.\n",
       "\n",
       "Here's the basic syntax for defining a function:\n",
       "\n",
       "```python\n",
       "def function_name(parameters):\n",
       "    # Code to execute\n",
       "    return value\n",
       "```\n",
       "\n",
       "#### Example: Function to Add Two Numbers"
      ],
      "text/plain": [
       "<IPython.core.display.Markdown object>"
      ]
     },
     "metadata": {},
     "output_type": "display_data"
    }
   ],
   "source": [
    "i18n.md('python/func_intro')"
   ]
  },
  {
   "cell_type": "code",
   "execution_count": 230,
   "metadata": {},
   "outputs": [
    {
     "name": "stdout",
     "output_type": "stream",
     "text": [
      "The sum is: 12\n"
     ]
    }
   ],
   "source": [
    "# Define a function\n",
    "def add_numbers(a, b):\n",
    "    return a + b\n",
    "\n",
    "# Call the function\n",
    "result = add_numbers(5, 7)\n",
    "print(f\"The sum is: {result}\")"
   ]
  },
  {
   "cell_type": "code",
   "execution_count": 231,
   "metadata": {},
   "outputs": [
    {
     "data": {
      "text/markdown": [
       "#### Your Turn: Greeting Function\n",
       "\n",
       "Write a function `greet` that takes a name as a parameter and returns a personalized greeting, like \"Hello, Ada!\"."
      ],
      "text/plain": [
       "<IPython.core.display.Markdown object>"
      ]
     },
     "metadata": {},
     "output_type": "display_data"
    }
   ],
   "source": [
    "i18n.md('python/func_task_greet')"
   ]
  },
  {
   "cell_type": "code",
   "execution_count": 232,
   "metadata": {},
   "outputs": [
    {
     "name": "stdout",
     "output_type": "stream",
     "text": [
      "None\n"
     ]
    }
   ],
   "source": [
    "# Define the function\n",
    "def greet(name):\n",
    "    # Your code here\n",
    "    pass\n",
    "\n",
    "# Call the function\n",
    "print(greet(\"Ada\"))  # Example call"
   ]
  },
  {
   "cell_type": "code",
   "execution_count": 233,
   "metadata": {},
   "outputs": [
    {
     "data": {
      "text/markdown": [
       "#### Returning Values\n",
       "\n",
       "A function can return a value using the return keyword. This allows you to use the result elsewhere in your code.\n",
       "\n",
       "#### Example: Calculating the Area of a Rectangle"
      ],
      "text/plain": [
       "<IPython.core.display.Markdown object>"
      ]
     },
     "metadata": {},
     "output_type": "display_data"
    }
   ],
   "source": [
    "i18n.md('python/func_return')"
   ]
  },
  {
   "cell_type": "code",
   "execution_count": 234,
   "metadata": {},
   "outputs": [
    {
     "name": "stdout",
     "output_type": "stream",
     "text": [
      "The area is: 15\n"
     ]
    }
   ],
   "source": [
    "# Define a function\n",
    "def calculate_area(length, width):\n",
    "    return length * width\n",
    "\n",
    "# Use the function\n",
    "area = calculate_area(5, 3)\n",
    "print(f\"The area is: {area}\")"
   ]
  },
  {
   "cell_type": "code",
   "execution_count": 235,
   "metadata": {},
   "outputs": [
    {
     "data": {
      "text/markdown": [
       "#### Your Turn: Circle Area Calculator\n",
       "\n",
       "Write a function `circle_area` that takes the radius as a parameter and returns the area of the circle. Use the formula area=πr2, where π=3.14159."
      ],
      "text/plain": [
       "<IPython.core.display.Markdown object>"
      ]
     },
     "metadata": {},
     "output_type": "display_data"
    }
   ],
   "source": [
    "i18n.md('python/func_task_area')"
   ]
  },
  {
   "cell_type": "code",
   "execution_count": 236,
   "metadata": {},
   "outputs": [
    {
     "name": "stdout",
     "output_type": "stream",
     "text": [
      "The area of the circle is: None\n"
     ]
    }
   ],
   "source": [
    "# Define the function\n",
    "def circle_area(radius):\n",
    "    # Your code here\n",
    "    pass\n",
    "\n",
    "# Call the function\n",
    "area = circle_area(5)  # Example call\n",
    "print(f\"The area of the circle is: {area}\")"
   ]
  },
  {
   "cell_type": "code",
   "execution_count": 279,
   "metadata": {},
   "outputs": [
    {
     "data": {
      "text/markdown": [
       "#### Challenge: FizzBuzz\n",
       "\n",
       "Write a function `fizzbuzz` that takes a number `n` and returns:\n",
       "\n",
       "1. `\"Fizz\"` if the number is divisible by 3,\n",
       "1. `\"Buzz\"` if the number is divisible by 5,\n",
       "1. `\"FizzBuzz\"` if the number is divisible by both 3 and 5,\n",
       "1. The number itself otherwise."
      ],
      "text/plain": [
       "<IPython.core.display.Markdown object>"
      ]
     },
     "metadata": {},
     "output_type": "display_data"
    }
   ],
   "source": [
    "i18n.md('python/func_challenge')"
   ]
  },
  {
   "cell_type": "code",
   "execution_count": 237,
   "metadata": {},
   "outputs": [
    {
     "name": "stdout",
     "output_type": "stream",
     "text": [
      "None\n",
      "None\n",
      "None\n",
      "None\n"
     ]
    }
   ],
   "source": [
    "# Define the function\n",
    "def fizzbuzz(n):\n",
    "    # Your code here\n",
    "    pass\n",
    "\n",
    "# Example calls\n",
    "print(fizzbuzz(3))  # Fizz\n",
    "print(fizzbuzz(5))  # Buzz\n",
    "print(fizzbuzz(15)) # FizzBuzz\n",
    "print(fizzbuzz(7))  # 7"
   ]
  },
  {
   "cell_type": "code",
   "execution_count": 238,
   "metadata": {},
   "outputs": [
    {
     "data": {
      "text/markdown": [
       "#### Testing and Feedback\n",
       "\n",
       "Tests for the Greeting Function, Circle Area Calculator, and FizzBuzz:\n"
      ],
      "text/plain": [
       "<IPython.core.display.Markdown object>"
      ]
     },
     "metadata": {},
     "output_type": "display_data"
    }
   ],
   "source": [
    "i18n.md('python/func_feedback')"
   ]
  },
  {
   "cell_type": "code",
   "execution_count": 239,
   "metadata": {},
   "outputs": [],
   "source": [
    "# Test Greeting Function\n",
    "# TODO: Implement the greet function in lib/tester.py\n",
    "#tester.greet(globals())\n",
    "\n",
    "# Test Circle Area Calculator\n",
    "# TODO: Implement the circle_area function in lib/tester.py\n",
    "#tester.circle_area(globals())\n",
    "\n",
    "# Test FizzBuzz\n",
    "# TODO: Implement the fizzbuzz function in lib/tester.py\n",
    "#tester.fizzbuzz(globals())\n"
   ]
  },
  {
   "cell_type": "code",
   "execution_count": 240,
   "metadata": {},
   "outputs": [
    {
     "data": {
      "text/markdown": [
       "## Lists and Dictionaries\n",
       "\n",
       "### Learning Objectives\n",
       "By the end of this section, you will be able to:\n",
       "- Create and manipulate lists to store sequences of items.\n",
       "- Access, modify, and iterate over list elements.\n",
       "- Create and use dictionaries to store key-value pairs.\n",
       "- Perform basic operations on dictionaries.\n",
       "\n",
       "---\n",
       "\n",
       "### Lists\n",
       "A **list** is a collection of items that can be of different types. Lists are mutable, meaning their elements can be changed.\n",
       "\n",
       "#### Creating Lists"
      ],
      "text/plain": [
       "<IPython.core.display.Markdown object>"
      ]
     },
     "metadata": {},
     "output_type": "display_data"
    }
   ],
   "source": [
    "i18n.md('python/lists_intro')"
   ]
  },
  {
   "cell_type": "code",
   "execution_count": 241,
   "metadata": {},
   "outputs": [
    {
     "name": "stdout",
     "output_type": "stream",
     "text": [
      "[1, 2, 3, 4, 5]\n",
      "['Python', 3.14, True]\n"
     ]
    }
   ],
   "source": [
    "# Example: List of numbers\n",
    "numbers = [1, 2, 3, 4, 5]\n",
    "\n",
    "# Example: List of mixed types\n",
    "mixed = [\"Python\", 3.14, True]\n",
    "\n",
    "print(numbers)\n",
    "print(mixed)"
   ]
  },
  {
   "cell_type": "code",
   "execution_count": 242,
   "metadata": {},
   "outputs": [
    {
     "data": {
      "text/markdown": [
       "### Accessing and Modifying Lists\n",
       "\n",
       "You can access list elements using their **index** (starting at 0). Use slicing to access parts of the list."
      ],
      "text/plain": [
       "<IPython.core.display.Markdown object>"
      ]
     },
     "metadata": {},
     "output_type": "display_data"
    }
   ],
   "source": [
    "i18n.md('python/lists_access')"
   ]
  },
  {
   "cell_type": "code",
   "execution_count": 243,
   "metadata": {},
   "outputs": [
    {
     "name": "stdout",
     "output_type": "stream",
     "text": [
      "apple\n",
      "cherry\n",
      "['apple', 'blueberry', 'cherry']\n",
      "['apple', 'blueberry']\n"
     ]
    }
   ],
   "source": [
    "# Accessing elements\n",
    "fruits = [\"apple\", \"banana\", \"cherry\"]\n",
    "print(fruits[0])  # First element\n",
    "print(fruits[-1]) # Last element\n",
    "\n",
    "# Modifying elements\n",
    "fruits[1] = \"blueberry\"\n",
    "print(fruits)\n",
    "\n",
    "# Slicing\n",
    "print(fruits[0:2])  # First two elements"
   ]
  },
  {
   "cell_type": "code",
   "execution_count": 244,
   "metadata": {},
   "outputs": [
    {
     "data": {
      "text/markdown": [
       "### Common List Methods\n",
       "\n",
       "* `append(item)`: Adds an item to the end of the list.\n",
       "* `insert(index`, item): Inserts an item at a specific index.\n",
       "* `remove(item)`: Removes the first occurrence of an item.\n",
       "* `pop(index)`: Removes and returns an item at a specific index.\n",
       "* `sort()`: Sorts the list in ascending order."
      ],
      "text/plain": [
       "<IPython.core.display.Markdown object>"
      ]
     },
     "metadata": {},
     "output_type": "display_data"
    }
   ],
   "source": [
    "i18n.md('python/lists_methods')"
   ]
  },
  {
   "cell_type": "code",
   "execution_count": 245,
   "metadata": {},
   "outputs": [
    {
     "name": "stdout",
     "output_type": "stream",
     "text": [
      "[1, 1, 3, 4, 5, 9]\n"
     ]
    }
   ],
   "source": [
    "# Example\n",
    "numbers = [3, 1, 4, 1, 5]\n",
    "numbers.append(9)\n",
    "numbers.sort()\n",
    "print(numbers)  # [1, 1, 3, 4, 5, 9]"
   ]
  },
  {
   "cell_type": "code",
   "execution_count": 246,
   "metadata": {},
   "outputs": [
    {
     "data": {
      "text/markdown": [
       "#### Your Turn: List Manipulation\n",
       "\n",
       "Write a program that:\n",
       "\n",
       "1. Creates a list of numbers: `[10, 20, 30, 40, 50]`\n",
       "1. Adds `60` to the list.\n",
       "1. Removes the first element.\n",
       "1. Prints the modified list."
      ],
      "text/plain": [
       "<IPython.core.display.Markdown object>"
      ]
     },
     "metadata": {},
     "output_type": "display_data"
    }
   ],
   "source": [
    "i18n.md('python/list_task')"
   ]
  },
  {
   "cell_type": "code",
   "execution_count": 247,
   "metadata": {},
   "outputs": [],
   "source": [
    "# Your code here\n",
    "numbers = None  # Replace None with your list"
   ]
  },
  {
   "cell_type": "code",
   "execution_count": 248,
   "metadata": {},
   "outputs": [
    {
     "data": {
      "text/markdown": [
       "### Dictionaries\n",
       "\n",
       "A **dictionary** is a collection of key-value pairs. Keys must be unique and immutable, while values can be of any type.\n",
       "\n",
       "#### Creating Dictionaries\n",
       "\n",
       "##### Example: Dictionary of a student's grades"
      ],
      "text/plain": [
       "<IPython.core.display.Markdown object>"
      ]
     },
     "metadata": {},
     "output_type": "display_data"
    }
   ],
   "source": [
    "i18n.md('python/dict_intro')"
   ]
  },
  {
   "cell_type": "code",
   "execution_count": 249,
   "metadata": {},
   "outputs": [
    {
     "name": "stdout",
     "output_type": "stream",
     "text": [
      "{'math': 90, 'science': 85, 'history': 88}\n"
     ]
    }
   ],
   "source": [
    "# Example: Dictionary of a student's grades\n",
    "grades = {\"math\": 90, \"science\": 85, \"history\": 88}\n",
    "print(grades)"
   ]
  },
  {
   "cell_type": "code",
   "execution_count": 250,
   "metadata": {},
   "outputs": [
    {
     "data": {
      "text/markdown": [
       "### Accessing and Modifying Dictionaries\n",
       "\n",
       "Use keys to access or modify values in a dictionary."
      ],
      "text/plain": [
       "<IPython.core.display.Markdown object>"
      ]
     },
     "metadata": {},
     "output_type": "display_data"
    }
   ],
   "source": [
    "i18n.md('python/dict_access')"
   ]
  },
  {
   "cell_type": "code",
   "execution_count": 251,
   "metadata": {},
   "outputs": [
    {
     "name": "stdout",
     "output_type": "stream",
     "text": [
      "90\n",
      "{'math': 95, 'science': 85, 'history': 88}\n",
      "{'math': 95, 'science': 85, 'history': 88, 'english': 92}\n"
     ]
    }
   ],
   "source": [
    "# Accessing values\n",
    "print(grades[\"math\"])  # 90\n",
    "\n",
    "# Modifying values\n",
    "grades[\"math\"] = 95\n",
    "print(grades)\n",
    "\n",
    "# Adding a new key-value pair\n",
    "grades[\"english\"] = 92\n",
    "print(grades)"
   ]
  },
  {
   "cell_type": "code",
   "execution_count": 252,
   "metadata": {},
   "outputs": [
    {
     "data": {
      "text/markdown": [
       "### Common Dictionary Methods\n",
       "\n",
       "* `keys()`: Returns a view of all keys.\n",
       "* `values()`: Returns a view of all values.\n",
       "* `items()`: Returns a view of all key-value pairs.\n",
       "* `pop(key)`: Removes and returns the value associated with the key."
      ],
      "text/plain": [
       "<IPython.core.display.Markdown object>"
      ]
     },
     "metadata": {},
     "output_type": "display_data"
    }
   ],
   "source": [
    "i18n.md('python/dict_methods')"
   ]
  },
  {
   "cell_type": "code",
   "execution_count": 253,
   "metadata": {},
   "outputs": [
    {
     "data": {
      "text/markdown": [
       "### Challenge: Dictionary Manipulation\n",
       "\n",
       "Write a program that:\n",
       "\n",
       "1. Creates a dictionary with three key-value pairs:\n",
       "    * `\"name\": \"Ada Lovelace\"`\n",
       "    * `\"age\": 36`\n",
       "    * `\"occupation\": \"Mathematician\"`\n",
       "1. Updates the `\"age\"` to `37`.\n",
       "1. Adds a new key-value pair: `\"nationality\": \"British\"`.\n",
       "1. Prints the modified dictionary."
      ],
      "text/plain": [
       "<IPython.core.display.Markdown object>"
      ]
     },
     "metadata": {},
     "output_type": "display_data"
    }
   ],
   "source": [
    "i18n.md('python/dict_challenge')"
   ]
  },
  {
   "cell_type": "code",
   "execution_count": 254,
   "metadata": {},
   "outputs": [],
   "source": [
    "# Your code here\n",
    "person = None  # Replace None with your dictionary"
   ]
  },
  {
   "cell_type": "code",
   "execution_count": 255,
   "metadata": {},
   "outputs": [
    {
     "data": {
      "text/markdown": [
       "### Nested Structures\n",
       "\n",
       "Lists and dictionaries can contain other lists and dictionaries, enabling complex data structures.\n",
       "\n",
       "#### Example: Nested Structures"
      ],
      "text/plain": [
       "<IPython.core.display.Markdown object>"
      ]
     },
     "metadata": {},
     "output_type": "display_data"
    }
   ],
   "source": [
    "i18n.md('python/lists_nested')"
   ]
  },
  {
   "cell_type": "code",
   "execution_count": 256,
   "metadata": {},
   "outputs": [
    {
     "name": "stdout",
     "output_type": "stream",
     "text": [
      "Alice\n"
     ]
    }
   ],
   "source": [
    "# List of dictionaries\n",
    "students = [\n",
    "    {\"name\": \"Alice\", \"age\": 20},\n",
    "    {\"name\": \"Bob\", \"age\": 22},\n",
    "]\n",
    "\n",
    "# Accessing nested data\n",
    "print(students[0][\"name\"])  # Alice"
   ]
  },
  {
   "cell_type": "code",
   "execution_count": 257,
   "metadata": {},
   "outputs": [
    {
     "data": {
      "text/markdown": [
       "### Testing and Feedback\n",
       "\n",
       "Tests for the List Manipulation and Dictionary Manipulation tasks:"
      ],
      "text/plain": [
       "<IPython.core.display.Markdown object>"
      ]
     },
     "metadata": {},
     "output_type": "display_data"
    }
   ],
   "source": [
    "i18n.md('python/lists_feedback')"
   ]
  },
  {
   "cell_type": "code",
   "execution_count": 258,
   "metadata": {},
   "outputs": [],
   "source": [
    "# Test List Manipulation\n",
    "# TODO: Implement the list_manipulation function in lib/tester.py\n",
    "#tester.list_manipulation(globals())\n",
    "\n",
    "# Test Dictionary Manipulation\n",
    "# TODO: Implement the dict_manipulation function in lib/tester.py\n",
    "#tester.dict_manipulation(globals())"
   ]
  },
  {
   "cell_type": "code",
   "execution_count": 259,
   "metadata": {},
   "outputs": [
    {
     "data": {
      "text/markdown": [
       "## Introduction to NumPy\n",
       "\n",
       "### Learning Objectives\n",
       "By the end of this section, you will be able to:\n",
       "- Convert a Python list into a NumPy array.\n",
       "- Perform element-wise operations on arrays.\n",
       "- Understand the advantages of NumPy arrays over Python lists.\n",
       "- Work with multi-dimensional arrays, slicing, and basic operations.\n",
       "- Use functions like `np.linspace` and masking to manipulate arrays.\n",
       "\n",
       "---\n",
       "\n",
       "### What is NumPy?\n",
       "NumPy is a powerful Python library for numerical computing. It provides an efficient way to store and process large datasets, especially for mathematical operations.\n",
       "\n",
       "To use NumPy, you first need to import it:\n",
       "```python\n",
       "import numpy as np\n",
       "```"
      ],
      "text/plain": [
       "<IPython.core.display.Markdown object>"
      ]
     },
     "metadata": {},
     "output_type": "display_data"
    }
   ],
   "source": [
    "i18n.md('python/numpy_intro')"
   ]
  },
  {
   "cell_type": "code",
   "execution_count": 260,
   "metadata": {},
   "outputs": [
    {
     "name": "stdout",
     "output_type": "stream",
     "text": [
      "Python list: [1, 2, 3, 4, 5]\n",
      "NumPy array: [1 2 3 4 5]\n"
     ]
    }
   ],
   "source": [
    "import numpy as np\n",
    "\n",
    "# Python list\n",
    "numbers = [1, 2, 3, 4, 5]\n",
    "\n",
    "# Convert to NumPy array\n",
    "np_numbers = np.array(numbers)\n",
    "\n",
    "print(\"Python list:\", numbers)\n",
    "print(\"NumPy array:\", np_numbers)\n"
   ]
  },
  {
   "cell_type": "code",
   "execution_count": 261,
   "metadata": {},
   "outputs": [
    {
     "data": {
      "text/markdown": [
       "### Converting Lists to NumPy Arrays\n",
       "\n",
       "You can convert a Python list to a NumPy array using `np.array()`."
      ],
      "text/plain": [
       "<IPython.core.display.Markdown object>"
      ]
     },
     "metadata": {},
     "output_type": "display_data"
    }
   ],
   "source": [
    "i18n.md('python/numpy_arrays')"
   ]
  },
  {
   "cell_type": "code",
   "execution_count": 262,
   "metadata": {},
   "outputs": [
    {
     "name": "stdout",
     "output_type": "stream",
     "text": [
      "Python list: [1, 2, 3, 4, 5]\n",
      "NumPy array: [1 2 3 4 5]\n"
     ]
    }
   ],
   "source": [
    "import numpy as np\n",
    "\n",
    "# Python list\n",
    "numbers = [1, 2, 3, 4, 5]\n",
    "\n",
    "# Convert to NumPy array\n",
    "np_numbers = np.array(numbers)\n",
    "\n",
    "print(\"Python list:\", numbers)\n",
    "print(\"NumPy array:\", np_numbers)"
   ]
  },
  {
   "cell_type": "code",
   "execution_count": 263,
   "metadata": {},
   "outputs": [
    {
     "data": {
      "text/markdown": [
       "#### Why Use NumPy Arrays?\n",
       "\n",
       "NumPy arrays are optimized for numerical operations. For example, you can multiply the entire array by a scalar, which is not directly possible with Python lists."
      ],
      "text/plain": [
       "<IPython.core.display.Markdown object>"
      ]
     },
     "metadata": {},
     "output_type": "display_data"
    }
   ],
   "source": [
    "i18n.md('python/numpy_arrays_why')"
   ]
  },
  {
   "cell_type": "code",
   "execution_count": 264,
   "metadata": {},
   "outputs": [
    {
     "name": "stdout",
     "output_type": "stream",
     "text": [
      "Scaled: [ 2  4  6  8 10]\n",
      "Square root: [1.         1.41421356 1.73205081 2.         2.23606798]\n"
     ]
    }
   ],
   "source": [
    "# Element-wise operations\n",
    "scaled_numbers = np_numbers * 2\n",
    "sqrt_numbers = np.sqrt(np_numbers)\n",
    "\n",
    "print(\"Scaled:\", scaled_numbers)\n",
    "print(\"Square root:\", sqrt_numbers)"
   ]
  },
  {
   "cell_type": "code",
   "execution_count": 265,
   "metadata": {},
   "outputs": [
    {
     "data": {
      "text/markdown": [
       "### Multi-dimensional Arrays\n",
       "\n",
       "NumPy also supports multi-dimensional arrays, like matrices."
      ],
      "text/plain": [
       "<IPython.core.display.Markdown object>"
      ]
     },
     "metadata": {},
     "output_type": "display_data"
    }
   ],
   "source": [
    "i18n.md('python/numpy_matrix')"
   ]
  },
  {
   "cell_type": "code",
   "execution_count": 266,
   "metadata": {},
   "outputs": [
    {
     "name": "stdout",
     "output_type": "stream",
     "text": [
      "2\n",
      "[2 5]\n",
      "[4 5 6]\n"
     ]
    }
   ],
   "source": [
    "# Create a 2D array (matrix)\n",
    "matrix = np.array([[1, 2, 3], [4, 5, 6]])\n",
    "\n",
    "# Access elements\n",
    "print(matrix[0, 1])  # Access the element in row 0, column 1 (2)\n",
    "\n",
    "# Slicing\n",
    "print(matrix[:, 1])  # All rows, column 1\n",
    "print(matrix[1, :])  # Row 1, all columns"
   ]
  },
  {
   "cell_type": "code",
   "execution_count": 267,
   "metadata": {},
   "outputs": [
    {
     "data": {
      "text/markdown": [
       "### Generating Arrays: `np.linspace`\n",
       "\n",
       "The `np.linspace` function generates evenly spaced values between two numbers."
      ],
      "text/plain": [
       "<IPython.core.display.Markdown object>"
      ]
     },
     "metadata": {},
     "output_type": "display_data"
    }
   ],
   "source": [
    "i18n.md('python/numpy_linspace')"
   ]
  },
  {
   "cell_type": "code",
   "execution_count": 268,
   "metadata": {},
   "outputs": [
    {
     "name": "stdout",
     "output_type": "stream",
     "text": [
      "[0.   0.25 0.5  0.75 1.  ]\n"
     ]
    }
   ],
   "source": [
    "# Generate 5 values between 0 and 1\n",
    "linear_space = np.linspace(0, 1, 5)\n",
    "print(linear_space)"
   ]
  },
  {
   "cell_type": "code",
   "execution_count": 269,
   "metadata": {},
   "outputs": [
    {
     "data": {
      "text/markdown": [
       "### Masking\n",
       "\n",
       "Masking allows you to filter arrays based on conditions."
      ],
      "text/plain": [
       "<IPython.core.display.Markdown object>"
      ]
     },
     "metadata": {},
     "output_type": "display_data"
    }
   ],
   "source": [
    "i18n.md('python/numpy_masking')"
   ]
  },
  {
   "cell_type": "code",
   "execution_count": 270,
   "metadata": {},
   "outputs": [
    {
     "name": "stdout",
     "output_type": "stream",
     "text": [
      "Mask: [False False False  True  True]\n",
      "Filtered data: [25 30]\n"
     ]
    }
   ],
   "source": [
    "# Create an array\n",
    "data = np.array([10, 15, 20, 25, 30])\n",
    "\n",
    "# Mask: Get all elements greater than 20\n",
    "mask = data > 20\n",
    "filtered_data = data[mask]\n",
    "\n",
    "print(\"Mask:\", mask)\n",
    "print(\"Filtered data:\", filtered_data)"
   ]
  },
  {
   "cell_type": "code",
   "execution_count": 271,
   "metadata": {},
   "outputs": [
    {
     "data": {
      "text/markdown": [
       "#### Your Turn: NumPy Array Operations\n",
       "\n",
       "1. Convert the list `[10, 20, 30, 40, 50]` to a NumPy array.\n",
       "1. Multiply all elements by 3.\n",
       "1. Calculate the sum of the array."
      ],
      "text/plain": [
       "<IPython.core.display.Markdown object>"
      ]
     },
     "metadata": {},
     "output_type": "display_data"
    }
   ],
   "source": [
    "i18n.md('python/numpy_task')"
   ]
  },
  {
   "cell_type": "code",
   "execution_count": 272,
   "metadata": {},
   "outputs": [],
   "source": [
    "# Your code here\n",
    "numbers = None  # Replace None with your list"
   ]
  },
  {
   "cell_type": "code",
   "execution_count": 273,
   "metadata": {},
   "outputs": [
    {
     "data": {
      "text/markdown": [
       "### Challenge: Multi-dimensional Array\n",
       "\n",
       "1. Create a 3x3 array with values from 1 to 9.\n",
       "1. Print the second row.\n",
       "1. Print all elements greater than 5."
      ],
      "text/plain": [
       "<IPython.core.display.Markdown object>"
      ]
     },
     "metadata": {},
     "output_type": "display_data"
    }
   ],
   "source": [
    "i18n.md('python/numpy_challenge')"
   ]
  },
  {
   "cell_type": "code",
   "execution_count": 274,
   "metadata": {},
   "outputs": [],
   "source": [
    "# Your code here"
   ]
  },
  {
   "cell_type": "code",
   "execution_count": 275,
   "metadata": {},
   "outputs": [
    {
     "data": {
      "text/markdown": [
       "### Testing and Feedback\n",
       "\n",
       "Tests for the NumPy tasks:"
      ],
      "text/plain": [
       "<IPython.core.display.Markdown object>"
      ]
     },
     "metadata": {},
     "output_type": "display_data"
    }
   ],
   "source": [
    "i18n.md('python/numpy_feedback')"
   ]
  },
  {
   "cell_type": "code",
   "execution_count": 276,
   "metadata": {},
   "outputs": [],
   "source": [
    "# Test NumPy Array Operations\n",
    "# TODO: Implement the numpy_operations function in lib/tester.py\n",
    "#tester.numpy_operations(globals())\n",
    "\n",
    "# Test Multi-dimensional Array\n",
    "# TODO: Implement the numpy_multidim function in lib/tester.py\n",
    "#tester.numpy_multidim(globals())"
   ]
  }
 ],
 "metadata": {
  "kernelspec": {
   "display_name": "astro",
   "language": "python",
   "name": "python3"
  },
  "language_info": {
   "codemirror_mode": {
    "name": "ipython",
    "version": 3
   },
   "file_extension": ".py",
   "mimetype": "text/x-python",
   "name": "python",
   "nbconvert_exporter": "python",
   "pygments_lexer": "ipython3",
   "version": "3.11.6"
  }
 },
 "nbformat": 4,
 "nbformat_minor": 4
}
